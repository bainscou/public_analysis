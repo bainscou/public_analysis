{
 "cells": [
  {
   "cell_type": "markdown",
   "metadata": {
    "collapsed": true
   },
   "source": [
    "### In this notebook I will outline review the PanCan recurrent mutations from Chang et al. for inclusion into DoCM"
   ]
  },
  {
   "cell_type": "markdown",
   "metadata": {},
   "source": [
    "You can find the paper [here](http://www.nature.com/nbt/journal/v34/n2/full/nbt.3391.html)."
   ]
  },
  {
   "cell_type": "markdown",
   "metadata": {},
   "source": [
    "![alt text](paper.jpg)"
   ]
  },
  {
   "cell_type": "markdown",
   "metadata": {
    "ExecuteTime": {
     "end_time": "2016-05-05T17:14:57.199278",
     "start_time": "2016-05-05T17:14:57.195740"
    }
   },
   "source": [
    "You can download that excel spreadsheet with all the data [here](http://cancerhotspots.org)"
   ]
  },
  {
   "cell_type": "markdown",
   "metadata": {},
   "source": [
    "![alt text](cancerhotspots.org.jpg)"
   ]
  },
  {
   "cell_type": "markdown",
   "metadata": {},
   "source": [
    "## Load libraries"
   ]
  },
  {
   "cell_type": "code",
   "execution_count": 1,
   "metadata": {
    "ExecuteTime": {
     "end_time": "2016-06-13T13:41:57.686445",
     "start_time": "2016-06-13T13:41:56.291866"
    },
    "collapsed": true
   },
   "outputs": [],
   "source": [
    "import pandas as pd\n",
    "import numpy as np\n",
    "\n",
    "import subprocess\n",
    "from io import StringIO\n",
    "\n",
    "%matplotlib inline\n",
    "import seaborn as sns"
   ]
  },
  {
   "cell_type": "markdown",
   "metadata": {},
   "source": [
    "#### Create a disease lookup dictionary used later to replace abbr. tumor types with DOIDs"
   ]
  },
  {
   "cell_type": "markdown",
   "metadata": {},
   "source": [
    "Note in the following diseases dataframe loaded from the spreadsheet. I altered the spreadsheet to include a Disease Ontology ID collumn. The best matching DOIDs were chosen. DoCM will not store the original disease names or abbreviations, only the DOIDs."
   ]
  },
  {
   "cell_type": "code",
   "execution_count": 2,
   "metadata": {
    "ExecuteTime": {
     "end_time": "2016-06-13T13:41:57.770847",
     "start_time": "2016-06-13T13:41:57.687589"
    },
    "collapsed": false
   },
   "outputs": [],
   "source": [
    "diseases = pd.read_excel('hotspots.xls', sheetname='Table S1', skiprows=2, skip_footer=2)"
   ]
  },
  {
   "cell_type": "code",
   "execution_count": 3,
   "metadata": {
    "ExecuteTime": {
     "end_time": "2016-06-13T13:41:57.778450",
     "start_time": "2016-06-13T13:41:57.772022"
    },
    "collapsed": false
   },
   "outputs": [],
   "source": [
    "diseases=diseases[['Tumor Type Abbreviation','Disease Ontlology ID']]"
   ]
  },
  {
   "cell_type": "code",
   "execution_count": 4,
   "metadata": {
    "ExecuteTime": {
     "end_time": "2016-06-13T13:41:57.791953",
     "start_time": "2016-06-13T13:41:57.779727"
    },
    "collapsed": false
   },
   "outputs": [
    {
     "data": {
      "text/html": [
       "<div>\n",
       "<table border=\"1\" class=\"dataframe\">\n",
       "  <thead>\n",
       "    <tr style=\"text-align: right;\">\n",
       "      <th></th>\n",
       "      <th>Tumor Type Abbreviation</th>\n",
       "      <th>Disease Ontlology ID</th>\n",
       "    </tr>\n",
       "  </thead>\n",
       "  <tbody>\n",
       "    <tr>\n",
       "      <th>0</th>\n",
       "      <td>acc</td>\n",
       "      <td>DOID:3948</td>\n",
       "    </tr>\n",
       "    <tr>\n",
       "      <th>1</th>\n",
       "      <td>acyc</td>\n",
       "      <td>DOID:4866</td>\n",
       "    </tr>\n",
       "    <tr>\n",
       "      <th>2</th>\n",
       "      <td>all</td>\n",
       "      <td>DOID:9952</td>\n",
       "    </tr>\n",
       "    <tr>\n",
       "      <th>3</th>\n",
       "      <td>blca</td>\n",
       "      <td>DOID:4006</td>\n",
       "    </tr>\n",
       "    <tr>\n",
       "      <th>4</th>\n",
       "      <td>brca</td>\n",
       "      <td>DOID:1612</td>\n",
       "    </tr>\n",
       "    <tr>\n",
       "      <th>5</th>\n",
       "      <td>cesc</td>\n",
       "      <td>DOID:2893</td>\n",
       "    </tr>\n",
       "    <tr>\n",
       "      <th>6</th>\n",
       "      <td>cll</td>\n",
       "      <td>DOID:1040</td>\n",
       "    </tr>\n",
       "    <tr>\n",
       "      <th>7</th>\n",
       "      <td>coadread</td>\n",
       "      <td>DOID:9256</td>\n",
       "    </tr>\n",
       "    <tr>\n",
       "      <th>8</th>\n",
       "      <td>cscc</td>\n",
       "      <td>DOID:3151</td>\n",
       "    </tr>\n",
       "    <tr>\n",
       "      <th>9</th>\n",
       "      <td>dlbc,lymbc</td>\n",
       "      <td>DOID:0060060</td>\n",
       "    </tr>\n",
       "    <tr>\n",
       "      <th>10</th>\n",
       "      <td>esca</td>\n",
       "      <td>DOID:1107</td>\n",
       "    </tr>\n",
       "    <tr>\n",
       "      <th>11</th>\n",
       "      <td>gbc</td>\n",
       "      <td>DOID:4948</td>\n",
       "    </tr>\n",
       "    <tr>\n",
       "      <th>12</th>\n",
       "      <td>gbm</td>\n",
       "      <td>DOID:3068</td>\n",
       "    </tr>\n",
       "    <tr>\n",
       "      <th>13</th>\n",
       "      <td>hgg</td>\n",
       "      <td>DOID:4202</td>\n",
       "    </tr>\n",
       "    <tr>\n",
       "      <th>14</th>\n",
       "      <td>hnsc</td>\n",
       "      <td>DOID:5520</td>\n",
       "    </tr>\n",
       "    <tr>\n",
       "      <th>15</th>\n",
       "      <td>kich</td>\n",
       "      <td>DOID:4471</td>\n",
       "    </tr>\n",
       "    <tr>\n",
       "      <th>16</th>\n",
       "      <td>kirc</td>\n",
       "      <td>DOID:4467</td>\n",
       "    </tr>\n",
       "    <tr>\n",
       "      <th>17</th>\n",
       "      <td>kirp</td>\n",
       "      <td>DOID:4465</td>\n",
       "    </tr>\n",
       "    <tr>\n",
       "      <th>18</th>\n",
       "      <td>laml</td>\n",
       "      <td>DOID:9119</td>\n",
       "    </tr>\n",
       "    <tr>\n",
       "      <th>19</th>\n",
       "      <td>lgg</td>\n",
       "      <td>DOID:0060108</td>\n",
       "    </tr>\n",
       "    <tr>\n",
       "      <th>20</th>\n",
       "      <td>lihc</td>\n",
       "      <td>DOID:684</td>\n",
       "    </tr>\n",
       "    <tr>\n",
       "      <th>21</th>\n",
       "      <td>luad</td>\n",
       "      <td>DOID:3910</td>\n",
       "    </tr>\n",
       "    <tr>\n",
       "      <th>22</th>\n",
       "      <td>lusc</td>\n",
       "      <td>DOID:3907</td>\n",
       "    </tr>\n",
       "    <tr>\n",
       "      <th>23</th>\n",
       "      <td>lusm</td>\n",
       "      <td>DOID:5409</td>\n",
       "    </tr>\n",
       "    <tr>\n",
       "      <th>24</th>\n",
       "      <td>mbl</td>\n",
       "      <td>DOID:0050902</td>\n",
       "    </tr>\n",
       "    <tr>\n",
       "      <th>25</th>\n",
       "      <td>mcl</td>\n",
       "      <td>DOID:0050746</td>\n",
       "    </tr>\n",
       "    <tr>\n",
       "      <th>26</th>\n",
       "      <td>mds</td>\n",
       "      <td>DOID:0050908</td>\n",
       "    </tr>\n",
       "    <tr>\n",
       "      <th>27</th>\n",
       "      <td>mmyl</td>\n",
       "      <td>DOID:9538</td>\n",
       "    </tr>\n",
       "    <tr>\n",
       "      <th>28</th>\n",
       "      <td>mrt</td>\n",
       "      <td>DOID:3672</td>\n",
       "    </tr>\n",
       "    <tr>\n",
       "      <th>29</th>\n",
       "      <td>nbl</td>\n",
       "      <td>DOID:769</td>\n",
       "    </tr>\n",
       "    <tr>\n",
       "      <th>30</th>\n",
       "      <td>npc</td>\n",
       "      <td>DOID:9261</td>\n",
       "    </tr>\n",
       "    <tr>\n",
       "      <th>31</th>\n",
       "      <td>ov</td>\n",
       "      <td>DOID:5746</td>\n",
       "    </tr>\n",
       "    <tr>\n",
       "      <th>32</th>\n",
       "      <td>paad</td>\n",
       "      <td>DOID:4074</td>\n",
       "    </tr>\n",
       "    <tr>\n",
       "      <th>33</th>\n",
       "      <td>pannet</td>\n",
       "      <td>DOID:1798</td>\n",
       "    </tr>\n",
       "    <tr>\n",
       "      <th>34</th>\n",
       "      <td>pias</td>\n",
       "      <td>DOID:4851</td>\n",
       "    </tr>\n",
       "    <tr>\n",
       "      <th>35</th>\n",
       "      <td>prad</td>\n",
       "      <td>DOID:2526</td>\n",
       "    </tr>\n",
       "    <tr>\n",
       "      <th>36</th>\n",
       "      <td>skcm</td>\n",
       "      <td>DOID:8923</td>\n",
       "    </tr>\n",
       "    <tr>\n",
       "      <th>37</th>\n",
       "      <td>stad</td>\n",
       "      <td>DOID:3717</td>\n",
       "    </tr>\n",
       "    <tr>\n",
       "      <th>38</th>\n",
       "      <td>thca</td>\n",
       "      <td>DOID:3963</td>\n",
       "    </tr>\n",
       "    <tr>\n",
       "      <th>39</th>\n",
       "      <td>ucec</td>\n",
       "      <td>DOID:0050939</td>\n",
       "    </tr>\n",
       "    <tr>\n",
       "      <th>40</th>\n",
       "      <td>ucs</td>\n",
       "      <td>DOID:6171</td>\n",
       "    </tr>\n",
       "  </tbody>\n",
       "</table>\n",
       "</div>"
      ],
      "text/plain": [
       "   Tumor Type Abbreviation Disease Ontlology ID\n",
       "0                      acc            DOID:3948\n",
       "1                     acyc            DOID:4866\n",
       "2                      all            DOID:9952\n",
       "3                     blca            DOID:4006\n",
       "4                     brca            DOID:1612\n",
       "5                     cesc            DOID:2893\n",
       "6                      cll            DOID:1040\n",
       "7                 coadread            DOID:9256\n",
       "8                     cscc            DOID:3151\n",
       "9               dlbc,lymbc         DOID:0060060\n",
       "10                    esca            DOID:1107\n",
       "11                     gbc            DOID:4948\n",
       "12                     gbm            DOID:3068\n",
       "13                     hgg            DOID:4202\n",
       "14                    hnsc            DOID:5520\n",
       "15                    kich            DOID:4471\n",
       "16                    kirc            DOID:4467\n",
       "17                    kirp            DOID:4465\n",
       "18                    laml            DOID:9119\n",
       "19                     lgg         DOID:0060108\n",
       "20                    lihc             DOID:684\n",
       "21                    luad            DOID:3910\n",
       "22                    lusc            DOID:3907\n",
       "23                    lusm            DOID:5409\n",
       "24                     mbl         DOID:0050902\n",
       "25                     mcl         DOID:0050746\n",
       "26                     mds         DOID:0050908\n",
       "27                    mmyl            DOID:9538\n",
       "28                     mrt            DOID:3672\n",
       "29                     nbl             DOID:769\n",
       "30                     npc            DOID:9261\n",
       "31                      ov            DOID:5746\n",
       "32                    paad            DOID:4074\n",
       "33                  pannet            DOID:1798\n",
       "34                    pias            DOID:4851\n",
       "35                    prad            DOID:2526\n",
       "36                    skcm            DOID:8923\n",
       "37                    stad            DOID:3717\n",
       "38                    thca            DOID:3963\n",
       "39                    ucec         DOID:0050939\n",
       "40                     ucs            DOID:6171"
      ]
     },
     "execution_count": 4,
     "metadata": {},
     "output_type": "execute_result"
    }
   ],
   "source": [
    "diseases"
   ]
  },
  {
   "cell_type": "code",
   "execution_count": 5,
   "metadata": {
    "ExecuteTime": {
     "end_time": "2016-06-13T13:41:57.808648",
     "start_time": "2016-06-13T13:41:57.793239"
    },
    "collapsed": false
   },
   "outputs": [],
   "source": [
    "disease_lookup = pd.concat([pd.Series(row['Disease Ontlology ID'], row['Tumor Type Abbreviation'].split(','))\n",
    "          for _, row in diseases.iterrows()]).to_dict()"
   ]
  },
  {
   "cell_type": "code",
   "execution_count": 6,
   "metadata": {
    "ExecuteTime": {
     "end_time": "2016-06-13T13:41:57.813218",
     "start_time": "2016-06-13T13:41:57.809692"
    },
    "collapsed": false
   },
   "outputs": [
    {
     "data": {
      "text/plain": [
       "{'acc': 'DOID:3948',\n",
       " 'acyc': 'DOID:4866',\n",
       " 'all': 'DOID:9952',\n",
       " 'blca': 'DOID:4006',\n",
       " 'brca': 'DOID:1612',\n",
       " 'cesc': 'DOID:2893',\n",
       " 'cll': 'DOID:1040',\n",
       " 'coadread': 'DOID:9256',\n",
       " 'cscc': 'DOID:3151',\n",
       " 'dlbc': 'DOID:0060060',\n",
       " 'esca': 'DOID:1107',\n",
       " 'gbc': 'DOID:4948',\n",
       " 'gbm': 'DOID:3068',\n",
       " 'hgg': 'DOID:4202',\n",
       " 'hnsc': 'DOID:5520',\n",
       " 'kich': 'DOID:4471',\n",
       " 'kirc': 'DOID:4467',\n",
       " 'kirp': 'DOID:4465',\n",
       " 'laml': 'DOID:9119',\n",
       " 'lgg': 'DOID:0060108',\n",
       " 'lihc': 'DOID:684',\n",
       " 'luad': 'DOID:3910',\n",
       " 'lusc': 'DOID:3907',\n",
       " 'lusm': 'DOID:5409',\n",
       " 'lymbc': 'DOID:0060060',\n",
       " 'mbl': 'DOID:0050902',\n",
       " 'mcl': 'DOID:0050746',\n",
       " 'mds': 'DOID:0050908',\n",
       " 'mmyl': 'DOID:9538',\n",
       " 'mrt': 'DOID:3672',\n",
       " 'nbl': 'DOID:769',\n",
       " 'npc': 'DOID:9261',\n",
       " 'ov': 'DOID:5746',\n",
       " 'paad': 'DOID:4074',\n",
       " 'pannet': 'DOID:1798',\n",
       " 'pias': 'DOID:4851',\n",
       " 'prad': 'DOID:2526',\n",
       " 'skcm': 'DOID:8923',\n",
       " 'stad': 'DOID:3717',\n",
       " 'thca': 'DOID:3963',\n",
       " 'ucec': 'DOID:0050939',\n",
       " 'ucs': 'DOID:6171'}"
      ]
     },
     "execution_count": 6,
     "metadata": {},
     "output_type": "execute_result"
    }
   ],
   "source": [
    "disease_lookup"
   ]
  },
  {
   "cell_type": "markdown",
   "metadata": {},
   "source": [
    "#### Read in the list of mutations, filter the diseases"
   ]
  },
  {
   "cell_type": "code",
   "execution_count": 7,
   "metadata": {
    "ExecuteTime": {
     "end_time": "2016-06-13T13:41:57.870428",
     "start_time": "2016-06-13T13:41:57.814188"
    },
    "collapsed": false
   },
   "outputs": [],
   "source": [
    "hotspots = pd.read_excel('hotspots.xls', sheetname='Table S2', skiprows=2, skip_footer=3)"
   ]
  },
  {
   "cell_type": "code",
   "execution_count": 8,
   "metadata": {
    "ExecuteTime": {
     "end_time": "2016-06-13T13:41:57.883910",
     "start_time": "2016-06-13T13:41:57.871649"
    },
    "collapsed": false
   },
   "outputs": [
    {
     "data": {
      "text/html": [
       "<div>\n",
       "<table border=\"1\" class=\"dataframe\">\n",
       "  <thead>\n",
       "    <tr style=\"text-align: right;\">\n",
       "      <th></th>\n",
       "      <th>Hugo Symbol</th>\n",
       "      <th>Codon</th>\n",
       "      <th>Alt Common Codon Usage *</th>\n",
       "      <th>Variant Amino Acid</th>\n",
       "      <th>Q-value</th>\n",
       "      <th>Tumor Count</th>\n",
       "      <th>Tumor Type Count</th>\n",
       "      <th>Validation Level [a]</th>\n",
       "      <th>Tumor Type Composition</th>\n",
       "    </tr>\n",
       "  </thead>\n",
       "  <tbody>\n",
       "    <tr>\n",
       "      <th>0</th>\n",
       "      <td>BRAF</td>\n",
       "      <td>V600</td>\n",
       "      <td>NaN</td>\n",
       "      <td>E:520|K:33|R:4|V:1</td>\n",
       "      <td>0.0</td>\n",
       "      <td>558</td>\n",
       "      <td>10</td>\n",
       "      <td>Level-3</td>\n",
       "      <td>skcm:252|thca:237|coadread:44|luad:9|gbm:6|mmy...</td>\n",
       "    </tr>\n",
       "    <tr>\n",
       "      <th>1</th>\n",
       "      <td>KRAS</td>\n",
       "      <td>G12</td>\n",
       "      <td>NaN</td>\n",
       "      <td>D:255|V:227|C:115|R:71|A:43|S:23|G:1|F:1</td>\n",
       "      <td>0.0</td>\n",
       "      <td>736</td>\n",
       "      <td>21</td>\n",
       "      <td>Level-3</td>\n",
       "      <td>paad:290|luad:188|coadread:151|ucec:36|stad:14...</td>\n",
       "    </tr>\n",
       "    <tr>\n",
       "      <th>2</th>\n",
       "      <td>PIK3CA</td>\n",
       "      <td>H1047</td>\n",
       "      <td>NaN</td>\n",
       "      <td>R:236|L:37|Y:6|Q:4</td>\n",
       "      <td>0.0</td>\n",
       "      <td>283</td>\n",
       "      <td>22</td>\n",
       "      <td>Level-3</td>\n",
       "      <td>brca:171|ucec:20|coadread:20|hnsc:19|stad:15|u...</td>\n",
       "    </tr>\n",
       "    <tr>\n",
       "      <th>3</th>\n",
       "      <td>IDH1</td>\n",
       "      <td>R132</td>\n",
       "      <td>NaN</td>\n",
       "      <td>H:250|C:50|G:12|S:8|L:4</td>\n",
       "      <td>0.0</td>\n",
       "      <td>324</td>\n",
       "      <td>15</td>\n",
       "      <td>Level-3</td>\n",
       "      <td>lgg:243|gbm:20|laml:19|skcm:17|prad:6|lihc:4|m...</td>\n",
       "    </tr>\n",
       "    <tr>\n",
       "      <th>4</th>\n",
       "      <td>NRAS</td>\n",
       "      <td>Q61</td>\n",
       "      <td>NaN</td>\n",
       "      <td>R:114|K:76|L:27|H:17|P:1</td>\n",
       "      <td>0.0</td>\n",
       "      <td>235</td>\n",
       "      <td>17</td>\n",
       "      <td>Level-3</td>\n",
       "      <td>skcm:127|thca:34|mmyl:27|coadread:16|laml:6|uc...</td>\n",
       "    </tr>\n",
       "  </tbody>\n",
       "</table>\n",
       "</div>"
      ],
      "text/plain": [
       "  Hugo Symbol  Codon Alt Common Codon Usage *  \\\n",
       "0        BRAF   V600                      NaN   \n",
       "1        KRAS    G12                      NaN   \n",
       "2      PIK3CA  H1047                      NaN   \n",
       "3        IDH1   R132                      NaN   \n",
       "4        NRAS    Q61                      NaN   \n",
       "\n",
       "                         Variant Amino Acid  Q-value  Tumor Count  \\\n",
       "0                        E:520|K:33|R:4|V:1      0.0          558   \n",
       "1  D:255|V:227|C:115|R:71|A:43|S:23|G:1|F:1      0.0          736   \n",
       "2                        R:236|L:37|Y:6|Q:4      0.0          283   \n",
       "3                   H:250|C:50|G:12|S:8|L:4      0.0          324   \n",
       "4                  R:114|K:76|L:27|H:17|P:1      0.0          235   \n",
       "\n",
       "   Tumor Type Count Validation Level [a]  \\\n",
       "0                10              Level-3   \n",
       "1                21              Level-3   \n",
       "2                22              Level-3   \n",
       "3                15              Level-3   \n",
       "4                17              Level-3   \n",
       "\n",
       "                              Tumor Type Composition  \n",
       "0  skcm:252|thca:237|coadread:44|luad:9|gbm:6|mmy...  \n",
       "1  paad:290|luad:188|coadread:151|ucec:36|stad:14...  \n",
       "2  brca:171|ucec:20|coadread:20|hnsc:19|stad:15|u...  \n",
       "3  lgg:243|gbm:20|laml:19|skcm:17|prad:6|lihc:4|m...  \n",
       "4  skcm:127|thca:34|mmyl:27|coadread:16|laml:6|uc...  "
      ]
     },
     "execution_count": 8,
     "metadata": {},
     "output_type": "execute_result"
    }
   ],
   "source": [
    "hotspots.head()"
   ]
  },
  {
   "cell_type": "code",
   "execution_count": 9,
   "metadata": {
    "ExecuteTime": {
     "end_time": "2016-06-13T13:41:57.888115",
     "start_time": "2016-06-13T13:41:57.885479"
    },
    "collapsed": false
   },
   "outputs": [],
   "source": [
    "hotspots.index = hotspots['Hugo Symbol'] + ':p.' + hotspots.Codon"
   ]
  },
  {
   "cell_type": "code",
   "execution_count": 10,
   "metadata": {
    "ExecuteTime": {
     "end_time": "2016-06-13T13:41:57.985665",
     "start_time": "2016-06-13T13:41:57.889261"
    },
    "collapsed": false
   },
   "outputs": [],
   "source": [
    "vaa = hotspots['Variant Amino Acid'].str.split('|').apply(pd.Series, 1).stack()\n",
    "vaa.index = vaa.index.droplevel(-1)\n",
    "vaa.name = 'Variant Amino Acid'\n",
    "del hotspots['Variant Amino Acid']\n",
    "hotspots = hotspots.join(vaa)\n"
   ]
  },
  {
   "cell_type": "code",
   "execution_count": 11,
   "metadata": {
    "ExecuteTime": {
     "end_time": "2016-06-13T13:41:58.178310",
     "start_time": "2016-06-13T13:41:57.986899"
    },
    "collapsed": false
   },
   "outputs": [],
   "source": [
    "common_codons = (hotspots['Codon'] + ':' + hotspots['Alt Common Codon Usage *']).str.split(':').apply(pd.Series, 1).stack()\n",
    "common_codons.index = common_codons.index.droplevel(-1)\n",
    "common_codons.name = 'Codon2'\n",
    "hotspots = hotspots.join(common_codons)\n",
    "idx = hotspots.Codon2.notnull()\n",
    "hotspots.loc[idx, 'Codon'] = hotspots[idx].Codon2\n",
    "del hotspots['Codon2']\n",
    "del hotspots['Alt Common Codon Usage *']"
   ]
  },
  {
   "cell_type": "code",
   "execution_count": 12,
   "metadata": {
    "ExecuteTime": {
     "end_time": "2016-06-13T13:41:58.182241",
     "start_time": "2016-06-13T13:41:58.179516"
    },
    "collapsed": true
   },
   "outputs": [],
   "source": [
    "def toint(x):\n",
    "    try:\n",
    "        return(int(x))\n",
    "    except:\n",
    "        return(np.NAN)"
   ]
  },
  {
   "cell_type": "code",
   "execution_count": 13,
   "metadata": {
    "ExecuteTime": {
     "end_time": "2016-06-13T13:41:58.200925",
     "start_time": "2016-06-13T13:41:58.183649"
    },
    "collapsed": false
   },
   "outputs": [
    {
     "data": {
      "text/html": [
       "<div>\n",
       "<table border=\"1\" class=\"dataframe\">\n",
       "  <thead>\n",
       "    <tr style=\"text-align: right;\">\n",
       "      <th></th>\n",
       "      <th>Hugo Symbol</th>\n",
       "      <th>Codon</th>\n",
       "      <th>Q-value</th>\n",
       "      <th>Tumor Count</th>\n",
       "      <th>Tumor Type Count</th>\n",
       "      <th>Validation Level [a]</th>\n",
       "      <th>Tumor Type Composition</th>\n",
       "      <th>variant_cases_count</th>\n",
       "    </tr>\n",
       "  </thead>\n",
       "  <tbody>\n",
       "    <tr>\n",
       "      <th>ABCC10:p.R570</th>\n",
       "      <td>ABCC10</td>\n",
       "      <td>R570W</td>\n",
       "      <td>0.000632</td>\n",
       "      <td>8</td>\n",
       "      <td>7</td>\n",
       "      <td>Level-1</td>\n",
       "      <td>gbm:2|prad:1|lusc:1|lgg:1|kirp:1|hnsc:1|brca:1</td>\n",
       "      <td>5.0</td>\n",
       "    </tr>\n",
       "    <tr>\n",
       "      <th>ABCC10:p.R570</th>\n",
       "      <td>ABCC10</td>\n",
       "      <td>R570Q</td>\n",
       "      <td>0.000632</td>\n",
       "      <td>8</td>\n",
       "      <td>7</td>\n",
       "      <td>Level-1</td>\n",
       "      <td>gbm:2|prad:1|lusc:1|lgg:1|kirp:1|hnsc:1|brca:1</td>\n",
       "      <td>2.0</td>\n",
       "    </tr>\n",
       "    <tr>\n",
       "      <th>ABCC10:p.R570</th>\n",
       "      <td>ABCC10</td>\n",
       "      <td>R570L</td>\n",
       "      <td>0.000632</td>\n",
       "      <td>8</td>\n",
       "      <td>7</td>\n",
       "      <td>Level-1</td>\n",
       "      <td>gbm:2|prad:1|lusc:1|lgg:1|kirp:1|hnsc:1|brca:1</td>\n",
       "      <td>1.0</td>\n",
       "    </tr>\n",
       "    <tr>\n",
       "      <th>ACADS:p.R330</th>\n",
       "      <td>ACADS</td>\n",
       "      <td>R330H</td>\n",
       "      <td>0.000002</td>\n",
       "      <td>10</td>\n",
       "      <td>7</td>\n",
       "      <td>Level-1</td>\n",
       "      <td>prad:2|kirc:2|gbm:2|ucec:1|stad:1|lgg:1|coadre...</td>\n",
       "      <td>8.0</td>\n",
       "    </tr>\n",
       "    <tr>\n",
       "      <th>ACADS:p.R330</th>\n",
       "      <td>ACADS</td>\n",
       "      <td>R330C</td>\n",
       "      <td>0.000002</td>\n",
       "      <td>10</td>\n",
       "      <td>7</td>\n",
       "      <td>Level-1</td>\n",
       "      <td>prad:2|kirc:2|gbm:2|ucec:1|stad:1|lgg:1|coadre...</td>\n",
       "      <td>2.0</td>\n",
       "    </tr>\n",
       "  </tbody>\n",
       "</table>\n",
       "</div>"
      ],
      "text/plain": [
       "              Hugo Symbol  Codon   Q-value  Tumor Count  Tumor Type Count  \\\n",
       "ABCC10:p.R570      ABCC10  R570W  0.000632            8                 7   \n",
       "ABCC10:p.R570      ABCC10  R570Q  0.000632            8                 7   \n",
       "ABCC10:p.R570      ABCC10  R570L  0.000632            8                 7   \n",
       "ACADS:p.R330        ACADS  R330H  0.000002           10                 7   \n",
       "ACADS:p.R330        ACADS  R330C  0.000002           10                 7   \n",
       "\n",
       "              Validation Level [a]  \\\n",
       "ABCC10:p.R570              Level-1   \n",
       "ABCC10:p.R570              Level-1   \n",
       "ABCC10:p.R570              Level-1   \n",
       "ACADS:p.R330               Level-1   \n",
       "ACADS:p.R330               Level-1   \n",
       "\n",
       "                                          Tumor Type Composition  \\\n",
       "ABCC10:p.R570     gbm:2|prad:1|lusc:1|lgg:1|kirp:1|hnsc:1|brca:1   \n",
       "ABCC10:p.R570     gbm:2|prad:1|lusc:1|lgg:1|kirp:1|hnsc:1|brca:1   \n",
       "ABCC10:p.R570     gbm:2|prad:1|lusc:1|lgg:1|kirp:1|hnsc:1|brca:1   \n",
       "ACADS:p.R330   prad:2|kirc:2|gbm:2|ucec:1|stad:1|lgg:1|coadre...   \n",
       "ACADS:p.R330   prad:2|kirc:2|gbm:2|ucec:1|stad:1|lgg:1|coadre...   \n",
       "\n",
       "               variant_cases_count  \n",
       "ABCC10:p.R570                  5.0  \n",
       "ABCC10:p.R570                  2.0  \n",
       "ABCC10:p.R570                  1.0  \n",
       "ACADS:p.R330                   8.0  \n",
       "ACADS:p.R330                   2.0  "
      ]
     },
     "execution_count": 13,
     "metadata": {},
     "output_type": "execute_result"
    }
   ],
   "source": [
    "variant_count = hotspots['Variant Amino Acid'].str.split(':', expand=True)\n",
    "variant_count.iloc[:,1] = variant_count.iloc[:,1].apply(toint)\n",
    "hotspots.Codon = hotspots['Codon']+variant_count[0]\n",
    "hotspots['variant_cases_count'] = variant_count[1]\n",
    "del hotspots['Variant Amino Acid']\n",
    "hotspots.head()"
   ]
  },
  {
   "cell_type": "code",
   "execution_count": 14,
   "metadata": {
    "ExecuteTime": {
     "end_time": "2016-06-13T13:41:58.302914",
     "start_time": "2016-06-13T13:41:58.201926"
    },
    "collapsed": false
   },
   "outputs": [],
   "source": [
    "hotspots = hotspots.join(variant_count.groupby(variant_count.index).mean().rename(columns={1: 'variant_cases_count_mean'}))\n",
    "hotspots = hotspots.join(variant_count.groupby(variant_count.index).max().iloc[:,1].rename('variant_cases_count_max'))"
   ]
  },
  {
   "cell_type": "code",
   "execution_count": 15,
   "metadata": {
    "ExecuteTime": {
     "end_time": "2016-06-13T13:41:58.594638",
     "start_time": "2016-06-13T13:41:58.304136"
    },
    "collapsed": false
   },
   "outputs": [
    {
     "data": {
      "text/html": [
       "<div>\n",
       "<table border=\"1\" class=\"dataframe\">\n",
       "  <thead>\n",
       "    <tr style=\"text-align: right;\">\n",
       "      <th></th>\n",
       "      <th>Hugo Symbol</th>\n",
       "      <th>Codon</th>\n",
       "      <th>Q-value</th>\n",
       "      <th>Tumor Count</th>\n",
       "      <th>Tumor Type Count</th>\n",
       "      <th>Validation Level [a]</th>\n",
       "      <th>variant_cases_count</th>\n",
       "      <th>variant_cases_count_mean</th>\n",
       "      <th>variant_cases_count_max</th>\n",
       "      <th>Tumor Type Composition</th>\n",
       "    </tr>\n",
       "  </thead>\n",
       "  <tbody>\n",
       "    <tr>\n",
       "      <th>ABCC10:p.R570</th>\n",
       "      <td>ABCC10</td>\n",
       "      <td>R570W</td>\n",
       "      <td>0.000632</td>\n",
       "      <td>8</td>\n",
       "      <td>7</td>\n",
       "      <td>Level-1</td>\n",
       "      <td>5.0</td>\n",
       "      <td>2.666667</td>\n",
       "      <td>5.0</td>\n",
       "      <td>gbm:2</td>\n",
       "    </tr>\n",
       "    <tr>\n",
       "      <th>ABCC10:p.R570</th>\n",
       "      <td>ABCC10</td>\n",
       "      <td>R570W</td>\n",
       "      <td>0.000632</td>\n",
       "      <td>8</td>\n",
       "      <td>7</td>\n",
       "      <td>Level-1</td>\n",
       "      <td>5.0</td>\n",
       "      <td>2.666667</td>\n",
       "      <td>5.0</td>\n",
       "      <td>prad:1</td>\n",
       "    </tr>\n",
       "    <tr>\n",
       "      <th>ABCC10:p.R570</th>\n",
       "      <td>ABCC10</td>\n",
       "      <td>R570W</td>\n",
       "      <td>0.000632</td>\n",
       "      <td>8</td>\n",
       "      <td>7</td>\n",
       "      <td>Level-1</td>\n",
       "      <td>5.0</td>\n",
       "      <td>2.666667</td>\n",
       "      <td>5.0</td>\n",
       "      <td>lusc:1</td>\n",
       "    </tr>\n",
       "    <tr>\n",
       "      <th>ABCC10:p.R570</th>\n",
       "      <td>ABCC10</td>\n",
       "      <td>R570W</td>\n",
       "      <td>0.000632</td>\n",
       "      <td>8</td>\n",
       "      <td>7</td>\n",
       "      <td>Level-1</td>\n",
       "      <td>5.0</td>\n",
       "      <td>2.666667</td>\n",
       "      <td>5.0</td>\n",
       "      <td>lgg:1</td>\n",
       "    </tr>\n",
       "    <tr>\n",
       "      <th>ABCC10:p.R570</th>\n",
       "      <td>ABCC10</td>\n",
       "      <td>R570W</td>\n",
       "      <td>0.000632</td>\n",
       "      <td>8</td>\n",
       "      <td>7</td>\n",
       "      <td>Level-1</td>\n",
       "      <td>5.0</td>\n",
       "      <td>2.666667</td>\n",
       "      <td>5.0</td>\n",
       "      <td>kirp:1</td>\n",
       "    </tr>\n",
       "  </tbody>\n",
       "</table>\n",
       "</div>"
      ],
      "text/plain": [
       "              Hugo Symbol  Codon   Q-value  Tumor Count  Tumor Type Count  \\\n",
       "ABCC10:p.R570      ABCC10  R570W  0.000632            8                 7   \n",
       "ABCC10:p.R570      ABCC10  R570W  0.000632            8                 7   \n",
       "ABCC10:p.R570      ABCC10  R570W  0.000632            8                 7   \n",
       "ABCC10:p.R570      ABCC10  R570W  0.000632            8                 7   \n",
       "ABCC10:p.R570      ABCC10  R570W  0.000632            8                 7   \n",
       "\n",
       "              Validation Level [a]  variant_cases_count  \\\n",
       "ABCC10:p.R570              Level-1                  5.0   \n",
       "ABCC10:p.R570              Level-1                  5.0   \n",
       "ABCC10:p.R570              Level-1                  5.0   \n",
       "ABCC10:p.R570              Level-1                  5.0   \n",
       "ABCC10:p.R570              Level-1                  5.0   \n",
       "\n",
       "               variant_cases_count_mean  variant_cases_count_max  \\\n",
       "ABCC10:p.R570                  2.666667                      5.0   \n",
       "ABCC10:p.R570                  2.666667                      5.0   \n",
       "ABCC10:p.R570                  2.666667                      5.0   \n",
       "ABCC10:p.R570                  2.666667                      5.0   \n",
       "ABCC10:p.R570                  2.666667                      5.0   \n",
       "\n",
       "              Tumor Type Composition  \n",
       "ABCC10:p.R570                  gbm:2  \n",
       "ABCC10:p.R570                 prad:1  \n",
       "ABCC10:p.R570                 lusc:1  \n",
       "ABCC10:p.R570                  lgg:1  \n",
       "ABCC10:p.R570                 kirp:1  "
      ]
     },
     "execution_count": 15,
     "metadata": {},
     "output_type": "execute_result"
    }
   ],
   "source": [
    "ttc = hotspots['Tumor Type Composition'].str.split('|').apply(pd.Series, 1).stack()\n",
    "ttc.index = ttc.index.droplevel(-1)\n",
    "ttc.name = 'Tumor Type Composition'\n",
    "del hotspots['Tumor Type Composition']\n",
    "hotspots = hotspots.join(ttc)\n",
    "hotspots.head()"
   ]
  },
  {
   "cell_type": "code",
   "execution_count": 16,
   "metadata": {
    "ExecuteTime": {
     "end_time": "2016-06-13T13:41:58.886970",
     "start_time": "2016-06-13T13:41:58.595998"
    },
    "collapsed": false
   },
   "outputs": [
    {
     "data": {
      "text/html": [
       "<div>\n",
       "<table border=\"1\" class=\"dataframe\">\n",
       "  <thead>\n",
       "    <tr style=\"text-align: right;\">\n",
       "      <th></th>\n",
       "      <th>Hugo Symbol</th>\n",
       "      <th>Codon</th>\n",
       "      <th>Q-value</th>\n",
       "      <th>Tumor Count</th>\n",
       "      <th>Tumor Type Count</th>\n",
       "      <th>Validation Level [a]</th>\n",
       "      <th>variant_cases_count</th>\n",
       "      <th>variant_cases_count_mean</th>\n",
       "      <th>variant_cases_count_max</th>\n",
       "      <th>Tumor Type</th>\n",
       "      <th>DOID</th>\n",
       "      <th>DOID_count</th>\n",
       "    </tr>\n",
       "  </thead>\n",
       "  <tbody>\n",
       "    <tr>\n",
       "      <th>ABCC10:p.R570</th>\n",
       "      <td>ABCC10</td>\n",
       "      <td>R570W</td>\n",
       "      <td>0.000632</td>\n",
       "      <td>8</td>\n",
       "      <td>7</td>\n",
       "      <td>Level-1</td>\n",
       "      <td>5.0</td>\n",
       "      <td>2.666667</td>\n",
       "      <td>5.0</td>\n",
       "      <td>gbm</td>\n",
       "      <td>DOID:3068</td>\n",
       "      <td>2</td>\n",
       "    </tr>\n",
       "    <tr>\n",
       "      <th>ABCC10:p.R570</th>\n",
       "      <td>ABCC10</td>\n",
       "      <td>R570W</td>\n",
       "      <td>0.000632</td>\n",
       "      <td>8</td>\n",
       "      <td>7</td>\n",
       "      <td>Level-1</td>\n",
       "      <td>5.0</td>\n",
       "      <td>2.666667</td>\n",
       "      <td>5.0</td>\n",
       "      <td>prad</td>\n",
       "      <td>DOID:2526</td>\n",
       "      <td>1</td>\n",
       "    </tr>\n",
       "    <tr>\n",
       "      <th>ABCC10:p.R570</th>\n",
       "      <td>ABCC10</td>\n",
       "      <td>R570W</td>\n",
       "      <td>0.000632</td>\n",
       "      <td>8</td>\n",
       "      <td>7</td>\n",
       "      <td>Level-1</td>\n",
       "      <td>5.0</td>\n",
       "      <td>2.666667</td>\n",
       "      <td>5.0</td>\n",
       "      <td>lusc</td>\n",
       "      <td>DOID:3907</td>\n",
       "      <td>1</td>\n",
       "    </tr>\n",
       "    <tr>\n",
       "      <th>ABCC10:p.R570</th>\n",
       "      <td>ABCC10</td>\n",
       "      <td>R570W</td>\n",
       "      <td>0.000632</td>\n",
       "      <td>8</td>\n",
       "      <td>7</td>\n",
       "      <td>Level-1</td>\n",
       "      <td>5.0</td>\n",
       "      <td>2.666667</td>\n",
       "      <td>5.0</td>\n",
       "      <td>lgg</td>\n",
       "      <td>DOID:0060108</td>\n",
       "      <td>1</td>\n",
       "    </tr>\n",
       "    <tr>\n",
       "      <th>ABCC10:p.R570</th>\n",
       "      <td>ABCC10</td>\n",
       "      <td>R570W</td>\n",
       "      <td>0.000632</td>\n",
       "      <td>8</td>\n",
       "      <td>7</td>\n",
       "      <td>Level-1</td>\n",
       "      <td>5.0</td>\n",
       "      <td>2.666667</td>\n",
       "      <td>5.0</td>\n",
       "      <td>kirp</td>\n",
       "      <td>DOID:4465</td>\n",
       "      <td>1</td>\n",
       "    </tr>\n",
       "  </tbody>\n",
       "</table>\n",
       "</div>"
      ],
      "text/plain": [
       "              Hugo Symbol  Codon   Q-value  Tumor Count  Tumor Type Count  \\\n",
       "ABCC10:p.R570      ABCC10  R570W  0.000632            8                 7   \n",
       "ABCC10:p.R570      ABCC10  R570W  0.000632            8                 7   \n",
       "ABCC10:p.R570      ABCC10  R570W  0.000632            8                 7   \n",
       "ABCC10:p.R570      ABCC10  R570W  0.000632            8                 7   \n",
       "ABCC10:p.R570      ABCC10  R570W  0.000632            8                 7   \n",
       "\n",
       "              Validation Level [a]  variant_cases_count  \\\n",
       "ABCC10:p.R570              Level-1                  5.0   \n",
       "ABCC10:p.R570              Level-1                  5.0   \n",
       "ABCC10:p.R570              Level-1                  5.0   \n",
       "ABCC10:p.R570              Level-1                  5.0   \n",
       "ABCC10:p.R570              Level-1                  5.0   \n",
       "\n",
       "               variant_cases_count_mean  variant_cases_count_max Tumor Type  \\\n",
       "ABCC10:p.R570                  2.666667                      5.0        gbm   \n",
       "ABCC10:p.R570                  2.666667                      5.0       prad   \n",
       "ABCC10:p.R570                  2.666667                      5.0       lusc   \n",
       "ABCC10:p.R570                  2.666667                      5.0        lgg   \n",
       "ABCC10:p.R570                  2.666667                      5.0       kirp   \n",
       "\n",
       "                       DOID  DOID_count  \n",
       "ABCC10:p.R570     DOID:3068           2  \n",
       "ABCC10:p.R570     DOID:2526           1  \n",
       "ABCC10:p.R570     DOID:3907           1  \n",
       "ABCC10:p.R570  DOID:0060108           1  \n",
       "ABCC10:p.R570     DOID:4465           1  "
      ]
     },
     "execution_count": 16,
     "metadata": {},
     "output_type": "execute_result"
    }
   ],
   "source": [
    "disease_count = hotspots['Tumor Type Composition'].str.split(':', expand=True)\n",
    "disease_count.iloc[:,1] = disease_count.iloc[:,1].apply(toint)\n",
    "hotspots['Tumor Type'] = disease_count[0]\n",
    "disease_count.replace({0: disease_lookup}, inplace=True)\n",
    "hotspots[['DOID','DOID_count']]= disease_count\n",
    "del hotspots['Tumor Type Composition']\n",
    "hotspots.head()"
   ]
  },
  {
   "cell_type": "code",
   "execution_count": 17,
   "metadata": {
    "ExecuteTime": {
     "end_time": "2016-06-13T13:41:59.040662",
     "start_time": "2016-06-13T13:41:58.888134"
    },
    "collapsed": false
   },
   "outputs": [],
   "source": [
    "hotspots = hotspots.join(disease_count.groupby(disease_count.index).max().iloc[:,1].rename('DOID_max'))\n",
    "hotspots = hotspots.join(disease_count.groupby(disease_count.index).mean().rename(columns={1: 'DOID_mean'}))"
   ]
  },
  {
   "cell_type": "code",
   "execution_count": 18,
   "metadata": {
    "ExecuteTime": {
     "end_time": "2016-06-13T13:41:59.045580",
     "start_time": "2016-06-13T13:41:59.042126"
    },
    "collapsed": false
   },
   "outputs": [
    {
     "data": {
      "text/plain": [
       "Index(['Hugo Symbol', 'Codon', 'Q-value', 'Tumor Count', 'Tumor Type Count',\n",
       "       'Validation Level [a]', 'variant_cases_count',\n",
       "       'variant_cases_count_mean', 'variant_cases_count_max', 'Tumor Type',\n",
       "       'DOID', 'DOID_count', 'DOID_max', 'DOID_mean'],\n",
       "      dtype='object')"
      ]
     },
     "execution_count": 18,
     "metadata": {},
     "output_type": "execute_result"
    }
   ],
   "source": [
    "hotspots.columns"
   ]
  },
  {
   "cell_type": "code",
   "execution_count": 19,
   "metadata": {
    "ExecuteTime": {
     "end_time": "2016-06-13T13:41:59.063178",
     "start_time": "2016-06-13T13:41:59.046993"
    },
    "collapsed": false
   },
   "outputs": [],
   "source": [
    "hotspots['HGVS']  = hotspots['Hugo Symbol']+':'+hotspots.Codon"
   ]
  },
  {
   "cell_type": "markdown",
   "metadata": {
    "ExecuteTime": {
     "end_time": "2016-05-12T12:07:10.214098",
     "start_time": "2016-05-12T12:07:10.210445"
    },
    "collapsed": false
   },
   "source": [
    "### Test thresholds for inclusion"
   ]
  },
  {
   "cell_type": "code",
   "execution_count": 20,
   "metadata": {
    "ExecuteTime": {
     "end_time": "2016-06-13T13:41:59.070306",
     "start_time": "2016-06-13T13:41:59.064370"
    },
    "collapsed": true
   },
   "outputs": [],
   "source": [
    "def threshold_plot(val):\n",
    "    threshes = sorted(hotspots[val].drop_duplicates().tolist())\n",
    "    if len(threshes)>10:\n",
    "        threshes = threshes[::round(len(threshes)/10)]\n",
    "    counts = [len(hotspots[hotspots[val]>=value].HGVS.drop_duplicates()) for value in threshes]\n",
    "    ax = sns.barplot(threshes, counts)\n",
    "    ax.set_title(val +' VS No. of unique variants')\n",
    "    ax.set_xlabel(val)\n",
    "    ax.set_ylabel('# of unique variants')"
   ]
  },
  {
   "cell_type": "code",
   "execution_count": 21,
   "metadata": {
    "ExecuteTime": {
     "end_time": "2016-06-13T13:41:59.508767",
     "start_time": "2016-06-13T13:41:59.071351"
    },
    "collapsed": false
   },
   "outputs": [
    {
     "data": {
      "image/png": "[encoded data removed]",
      "text/plain": [
       "<matplotlib.figure.Figure at 0x10bb46438>"
      ]
     },
     "metadata": {},
     "output_type": "display_data"
    }
   ],
   "source": [
    "threshold_plot('Tumor Type Count')"
   ]
  },
  {
   "cell_type": "code",
   "execution_count": 22,
   "metadata": {
    "ExecuteTime": {
     "end_time": "2016-06-13T13:41:59.743171",
     "start_time": "2016-06-13T13:41:59.510160"
    },
    "collapsed": false
   },
   "outputs": [
    {
     "data": {
      "image/png": "[encoded data removed]",
      "text/plain": [
       "<matplotlib.figure.Figure at 0x10bfdaa20>"
      ]
     },
     "metadata": {},
     "output_type": "display_data"
    }
   ],
   "source": [
    "threshold_plot('Validation Level [a]')"
   ]
  },
  {
   "cell_type": "code",
   "execution_count": 23,
   "metadata": {
    "ExecuteTime": {
     "end_time": "2016-06-13T13:42:00.137902",
     "start_time": "2016-06-13T13:41:59.744702"
    },
    "collapsed": false
   },
   "outputs": [
    {
     "data": {
      "image/png": "[encoded data removed]",
      "text/plain": [
       "<matplotlib.figure.Figure at 0x10bff85f8>"
      ]
     },
     "metadata": {},
     "output_type": "display_data"
    }
   ],
   "source": [
    "threshold_plot('Tumor Count')"
   ]
  },
  {
   "cell_type": "code",
   "execution_count": 24,
   "metadata": {
    "ExecuteTime": {
     "end_time": "2016-06-13T13:42:00.423297",
     "start_time": "2016-06-13T13:42:00.139604"
    },
    "collapsed": false
   },
   "outputs": [
    {
     "data": {
      "image/png": "[encoded data removed]",
      "text/plain": [
       "<matplotlib.figure.Figure at 0x10c77d780>"
      ]
     },
     "metadata": {},
     "output_type": "display_data"
    }
   ],
   "source": [
    "threshold_plot('variant_cases_count')"
   ]
  },
  {
   "cell_type": "code",
   "execution_count": 25,
   "metadata": {
    "ExecuteTime": {
     "end_time": "2016-06-13T13:42:00.694183",
     "start_time": "2016-06-13T13:42:00.424471"
    },
    "collapsed": false
   },
   "outputs": [
    {
     "data": {
      "image/png": "[encoded data removed]",
      "text/plain": [
       "<matplotlib.figure.Figure at 0x10bfdde48>"
      ]
     },
     "metadata": {},
     "output_type": "display_data"
    }
   ],
   "source": [
    "threshold_plot('variant_cases_count_mean')"
   ]
  },
  {
   "cell_type": "code",
   "execution_count": 26,
   "metadata": {
    "ExecuteTime": {
     "end_time": "2016-06-13T13:42:00.936085",
     "start_time": "2016-06-13T13:42:00.695411"
    },
    "collapsed": false
   },
   "outputs": [
    {
     "data": {
      "image/png": "[encoded data removed]",
      "text/plain": [
       "<matplotlib.figure.Figure at 0x10bee3048>"
      ]
     },
     "metadata": {},
     "output_type": "display_data"
    }
   ],
   "source": [
    "threshold_plot('variant_cases_count_max')"
   ]
  },
  {
   "cell_type": "code",
   "execution_count": 27,
   "metadata": {
    "ExecuteTime": {
     "end_time": "2016-06-13T13:42:01.231062",
     "start_time": "2016-06-13T13:42:00.937437"
    },
    "collapsed": false
   },
   "outputs": [
    {
     "data": {
      "image/png": "[encoded data removed]",
      "text/plain": [
       "<matplotlib.figure.Figure at 0x10b21e4e0>"
      ]
     },
     "metadata": {},
     "output_type": "display_data"
    }
   ],
   "source": [
    "threshold_plot('DOID_count')"
   ]
  },
  {
   "cell_type": "code",
   "execution_count": 28,
   "metadata": {
    "ExecuteTime": {
     "end_time": "2016-06-13T13:42:01.535382",
     "start_time": "2016-06-13T13:42:01.232354"
    },
    "collapsed": false
   },
   "outputs": [
    {
     "data": {
      "image/png": "[encoded data removed]",
      "text/plain": [
       "<matplotlib.figure.Figure at 0x10afb8c88>"
      ]
     },
     "metadata": {},
     "output_type": "display_data"
    }
   ],
   "source": [
    "threshold_plot('DOID_max')"
   ]
  },
  {
   "cell_type": "code",
   "execution_count": 29,
   "metadata": {
    "ExecuteTime": {
     "end_time": "2016-06-13T13:42:01.863750",
     "start_time": "2016-06-13T13:42:01.536873"
    },
    "collapsed": false
   },
   "outputs": [
    {
     "data": {
      "image/png": "[encoded data removed]",
      "text/plain": [
       "<matplotlib.figure.Figure at 0x10b623390>"
      ]
     },
     "metadata": {},
     "output_type": "display_data"
    }
   ],
   "source": [
    "threshold_plot('DOID_mean')"
   ]
  },
  {
   "cell_type": "code",
   "execution_count": 30,
   "metadata": {
    "ExecuteTime": {
     "end_time": "2016-06-13T13:42:02.299667",
     "start_time": "2016-06-13T13:42:01.864934"
    },
    "collapsed": false
   },
   "outputs": [
    {
     "data": {
      "image/png": "[encoded data removed]",
      "text/plain": [
       "<matplotlib.figure.Figure at 0x10d9a3208>"
      ]
     },
     "metadata": {},
     "output_type": "display_data"
    }
   ],
   "source": [
    "threshold_plot('Tumor Type Count')"
   ]
  },
  {
   "cell_type": "code",
   "execution_count": null,
   "metadata": {
    "collapsed": true
   },
   "outputs": [],
   "source": []
  },
  {
   "cell_type": "code",
   "execution_count": 31,
   "metadata": {
    "ExecuteTime": {
     "end_time": "2016-06-13T13:42:02.328718",
     "start_time": "2016-06-13T13:42:02.301247"
    },
    "collapsed": false
   },
   "outputs": [
    {
     "data": {
      "text/html": [
       "<div>\n",
       "<table border=\"1\" class=\"dataframe\">\n",
       "  <thead>\n",
       "    <tr style=\"text-align: right;\">\n",
       "      <th></th>\n",
       "      <th>Hugo Symbol</th>\n",
       "      <th>Codon</th>\n",
       "      <th>Q-value</th>\n",
       "      <th>Tumor Count</th>\n",
       "      <th>Tumor Type Count</th>\n",
       "      <th>Validation Level [a]</th>\n",
       "      <th>variant_cases_count</th>\n",
       "      <th>variant_cases_count_mean</th>\n",
       "      <th>variant_cases_count_max</th>\n",
       "      <th>Tumor Type</th>\n",
       "      <th>DOID</th>\n",
       "      <th>DOID_count</th>\n",
       "      <th>DOID_max</th>\n",
       "      <th>DOID_mean</th>\n",
       "      <th>HGVS</th>\n",
       "    </tr>\n",
       "  </thead>\n",
       "  <tbody>\n",
       "    <tr>\n",
       "      <th>ABCC10:p.R570</th>\n",
       "      <td>ABCC10</td>\n",
       "      <td>R570W</td>\n",
       "      <td>0.000632</td>\n",
       "      <td>8</td>\n",
       "      <td>7</td>\n",
       "      <td>Level-1</td>\n",
       "      <td>5.0</td>\n",
       "      <td>2.666667</td>\n",
       "      <td>5.0</td>\n",
       "      <td>gbm</td>\n",
       "      <td>DOID:3068</td>\n",
       "      <td>2</td>\n",
       "      <td>2</td>\n",
       "      <td>1.142857</td>\n",
       "      <td>ABCC10:R570W</td>\n",
       "    </tr>\n",
       "    <tr>\n",
       "      <th>ABCC10:p.R570</th>\n",
       "      <td>ABCC10</td>\n",
       "      <td>R570W</td>\n",
       "      <td>0.000632</td>\n",
       "      <td>8</td>\n",
       "      <td>7</td>\n",
       "      <td>Level-1</td>\n",
       "      <td>5.0</td>\n",
       "      <td>2.666667</td>\n",
       "      <td>5.0</td>\n",
       "      <td>prad</td>\n",
       "      <td>DOID:2526</td>\n",
       "      <td>1</td>\n",
       "      <td>2</td>\n",
       "      <td>1.142857</td>\n",
       "      <td>ABCC10:R570W</td>\n",
       "    </tr>\n",
       "    <tr>\n",
       "      <th>ABCC10:p.R570</th>\n",
       "      <td>ABCC10</td>\n",
       "      <td>R570W</td>\n",
       "      <td>0.000632</td>\n",
       "      <td>8</td>\n",
       "      <td>7</td>\n",
       "      <td>Level-1</td>\n",
       "      <td>5.0</td>\n",
       "      <td>2.666667</td>\n",
       "      <td>5.0</td>\n",
       "      <td>lusc</td>\n",
       "      <td>DOID:3907</td>\n",
       "      <td>1</td>\n",
       "      <td>2</td>\n",
       "      <td>1.142857</td>\n",
       "      <td>ABCC10:R570W</td>\n",
       "    </tr>\n",
       "    <tr>\n",
       "      <th>ABCC10:p.R570</th>\n",
       "      <td>ABCC10</td>\n",
       "      <td>R570W</td>\n",
       "      <td>0.000632</td>\n",
       "      <td>8</td>\n",
       "      <td>7</td>\n",
       "      <td>Level-1</td>\n",
       "      <td>5.0</td>\n",
       "      <td>2.666667</td>\n",
       "      <td>5.0</td>\n",
       "      <td>lgg</td>\n",
       "      <td>DOID:0060108</td>\n",
       "      <td>1</td>\n",
       "      <td>2</td>\n",
       "      <td>1.142857</td>\n",
       "      <td>ABCC10:R570W</td>\n",
       "    </tr>\n",
       "    <tr>\n",
       "      <th>ABCC10:p.R570</th>\n",
       "      <td>ABCC10</td>\n",
       "      <td>R570W</td>\n",
       "      <td>0.000632</td>\n",
       "      <td>8</td>\n",
       "      <td>7</td>\n",
       "      <td>Level-1</td>\n",
       "      <td>5.0</td>\n",
       "      <td>2.666667</td>\n",
       "      <td>5.0</td>\n",
       "      <td>kirp</td>\n",
       "      <td>DOID:4465</td>\n",
       "      <td>1</td>\n",
       "      <td>2</td>\n",
       "      <td>1.142857</td>\n",
       "      <td>ABCC10:R570W</td>\n",
       "    </tr>\n",
       "  </tbody>\n",
       "</table>\n",
       "</div>"
      ],
      "text/plain": [
       "              Hugo Symbol  Codon   Q-value  Tumor Count  Tumor Type Count  \\\n",
       "ABCC10:p.R570      ABCC10  R570W  0.000632            8                 7   \n",
       "ABCC10:p.R570      ABCC10  R570W  0.000632            8                 7   \n",
       "ABCC10:p.R570      ABCC10  R570W  0.000632            8                 7   \n",
       "ABCC10:p.R570      ABCC10  R570W  0.000632            8                 7   \n",
       "ABCC10:p.R570      ABCC10  R570W  0.000632            8                 7   \n",
       "\n",
       "              Validation Level [a]  variant_cases_count  \\\n",
       "ABCC10:p.R570              Level-1                  5.0   \n",
       "ABCC10:p.R570              Level-1                  5.0   \n",
       "ABCC10:p.R570              Level-1                  5.0   \n",
       "ABCC10:p.R570              Level-1                  5.0   \n",
       "ABCC10:p.R570              Level-1                  5.0   \n",
       "\n",
       "               variant_cases_count_mean  variant_cases_count_max Tumor Type  \\\n",
       "ABCC10:p.R570                  2.666667                      5.0        gbm   \n",
       "ABCC10:p.R570                  2.666667                      5.0       prad   \n",
       "ABCC10:p.R570                  2.666667                      5.0       lusc   \n",
       "ABCC10:p.R570                  2.666667                      5.0        lgg   \n",
       "ABCC10:p.R570                  2.666667                      5.0       kirp   \n",
       "\n",
       "                       DOID  DOID_count  DOID_max  DOID_mean          HGVS  \n",
       "ABCC10:p.R570     DOID:3068           2         2   1.142857  ABCC10:R570W  \n",
       "ABCC10:p.R570     DOID:2526           1         2   1.142857  ABCC10:R570W  \n",
       "ABCC10:p.R570     DOID:3907           1         2   1.142857  ABCC10:R570W  \n",
       "ABCC10:p.R570  DOID:0060108           1         2   1.142857  ABCC10:R570W  \n",
       "ABCC10:p.R570     DOID:4465           1         2   1.142857  ABCC10:R570W  "
      ]
     },
     "execution_count": 31,
     "metadata": {},
     "output_type": "execute_result"
    }
   ],
   "source": [
    "hotspots[hotspots['Tumor Type Count']>=3].head()"
   ]
  },
  {
   "cell_type": "code",
   "execution_count": 32,
   "metadata": {
    "ExecuteTime": {
     "end_time": "2016-06-13T13:42:02.352993",
     "start_time": "2016-06-13T13:42:02.330215"
    },
    "collapsed": true
   },
   "outputs": [],
   "source": [
    "hotspots['pHGVS']=hotspots['Hugo Symbol'] + \":p.\" + hotspots.Codon"
   ]
  },
  {
   "cell_type": "code",
   "execution_count": 33,
   "metadata": {
    "ExecuteTime": {
     "end_time": "2016-06-13T13:42:02.375504",
     "start_time": "2016-06-13T13:42:02.354593"
    },
    "collapsed": false
   },
   "outputs": [
    {
     "data": {
      "text/html": [
       "<div>\n",
       "<table border=\"1\" class=\"dataframe\">\n",
       "  <thead>\n",
       "    <tr style=\"text-align: right;\">\n",
       "      <th></th>\n",
       "      <th>Hugo Symbol</th>\n",
       "      <th>Codon</th>\n",
       "      <th>Q-value</th>\n",
       "      <th>Tumor Count</th>\n",
       "      <th>Tumor Type Count</th>\n",
       "      <th>Validation Level [a]</th>\n",
       "      <th>variant_cases_count</th>\n",
       "      <th>variant_cases_count_mean</th>\n",
       "      <th>variant_cases_count_max</th>\n",
       "      <th>Tumor Type</th>\n",
       "      <th>DOID</th>\n",
       "      <th>DOID_count</th>\n",
       "      <th>DOID_max</th>\n",
       "      <th>DOID_mean</th>\n",
       "      <th>HGVS</th>\n",
       "      <th>pHGVS</th>\n",
       "    </tr>\n",
       "  </thead>\n",
       "  <tbody>\n",
       "    <tr>\n",
       "      <th>ABCC10:p.R570</th>\n",
       "      <td>ABCC10</td>\n",
       "      <td>R570W</td>\n",
       "      <td>0.000632</td>\n",
       "      <td>8</td>\n",
       "      <td>7</td>\n",
       "      <td>Level-1</td>\n",
       "      <td>5.0</td>\n",
       "      <td>2.666667</td>\n",
       "      <td>5.0</td>\n",
       "      <td>gbm</td>\n",
       "      <td>DOID:3068</td>\n",
       "      <td>2</td>\n",
       "      <td>2</td>\n",
       "      <td>1.142857</td>\n",
       "      <td>ABCC10:R570W</td>\n",
       "      <td>ABCC10:p.R570W</td>\n",
       "    </tr>\n",
       "    <tr>\n",
       "      <th>ABCC10:p.R570</th>\n",
       "      <td>ABCC10</td>\n",
       "      <td>R570W</td>\n",
       "      <td>0.000632</td>\n",
       "      <td>8</td>\n",
       "      <td>7</td>\n",
       "      <td>Level-1</td>\n",
       "      <td>5.0</td>\n",
       "      <td>2.666667</td>\n",
       "      <td>5.0</td>\n",
       "      <td>prad</td>\n",
       "      <td>DOID:2526</td>\n",
       "      <td>1</td>\n",
       "      <td>2</td>\n",
       "      <td>1.142857</td>\n",
       "      <td>ABCC10:R570W</td>\n",
       "      <td>ABCC10:p.R570W</td>\n",
       "    </tr>\n",
       "    <tr>\n",
       "      <th>ABCC10:p.R570</th>\n",
       "      <td>ABCC10</td>\n",
       "      <td>R570W</td>\n",
       "      <td>0.000632</td>\n",
       "      <td>8</td>\n",
       "      <td>7</td>\n",
       "      <td>Level-1</td>\n",
       "      <td>5.0</td>\n",
       "      <td>2.666667</td>\n",
       "      <td>5.0</td>\n",
       "      <td>lusc</td>\n",
       "      <td>DOID:3907</td>\n",
       "      <td>1</td>\n",
       "      <td>2</td>\n",
       "      <td>1.142857</td>\n",
       "      <td>ABCC10:R570W</td>\n",
       "      <td>ABCC10:p.R570W</td>\n",
       "    </tr>\n",
       "    <tr>\n",
       "      <th>ABCC10:p.R570</th>\n",
       "      <td>ABCC10</td>\n",
       "      <td>R570W</td>\n",
       "      <td>0.000632</td>\n",
       "      <td>8</td>\n",
       "      <td>7</td>\n",
       "      <td>Level-1</td>\n",
       "      <td>5.0</td>\n",
       "      <td>2.666667</td>\n",
       "      <td>5.0</td>\n",
       "      <td>lgg</td>\n",
       "      <td>DOID:0060108</td>\n",
       "      <td>1</td>\n",
       "      <td>2</td>\n",
       "      <td>1.142857</td>\n",
       "      <td>ABCC10:R570W</td>\n",
       "      <td>ABCC10:p.R570W</td>\n",
       "    </tr>\n",
       "    <tr>\n",
       "      <th>ABCC10:p.R570</th>\n",
       "      <td>ABCC10</td>\n",
       "      <td>R570W</td>\n",
       "      <td>0.000632</td>\n",
       "      <td>8</td>\n",
       "      <td>7</td>\n",
       "      <td>Level-1</td>\n",
       "      <td>5.0</td>\n",
       "      <td>2.666667</td>\n",
       "      <td>5.0</td>\n",
       "      <td>kirp</td>\n",
       "      <td>DOID:4465</td>\n",
       "      <td>1</td>\n",
       "      <td>2</td>\n",
       "      <td>1.142857</td>\n",
       "      <td>ABCC10:R570W</td>\n",
       "      <td>ABCC10:p.R570W</td>\n",
       "    </tr>\n",
       "  </tbody>\n",
       "</table>\n",
       "</div>"
      ],
      "text/plain": [
       "              Hugo Symbol  Codon   Q-value  Tumor Count  Tumor Type Count  \\\n",
       "ABCC10:p.R570      ABCC10  R570W  0.000632            8                 7   \n",
       "ABCC10:p.R570      ABCC10  R570W  0.000632            8                 7   \n",
       "ABCC10:p.R570      ABCC10  R570W  0.000632            8                 7   \n",
       "ABCC10:p.R570      ABCC10  R570W  0.000632            8                 7   \n",
       "ABCC10:p.R570      ABCC10  R570W  0.000632            8                 7   \n",
       "\n",
       "              Validation Level [a]  variant_cases_count  \\\n",
       "ABCC10:p.R570              Level-1                  5.0   \n",
       "ABCC10:p.R570              Level-1                  5.0   \n",
       "ABCC10:p.R570              Level-1                  5.0   \n",
       "ABCC10:p.R570              Level-1                  5.0   \n",
       "ABCC10:p.R570              Level-1                  5.0   \n",
       "\n",
       "               variant_cases_count_mean  variant_cases_count_max Tumor Type  \\\n",
       "ABCC10:p.R570                  2.666667                      5.0        gbm   \n",
       "ABCC10:p.R570                  2.666667                      5.0       prad   \n",
       "ABCC10:p.R570                  2.666667                      5.0       lusc   \n",
       "ABCC10:p.R570                  2.666667                      5.0        lgg   \n",
       "ABCC10:p.R570                  2.666667                      5.0       kirp   \n",
       "\n",
       "                       DOID  DOID_count  DOID_max  DOID_mean          HGVS  \\\n",
       "ABCC10:p.R570     DOID:3068           2         2   1.142857  ABCC10:R570W   \n",
       "ABCC10:p.R570     DOID:2526           1         2   1.142857  ABCC10:R570W   \n",
       "ABCC10:p.R570     DOID:3907           1         2   1.142857  ABCC10:R570W   \n",
       "ABCC10:p.R570  DOID:0060108           1         2   1.142857  ABCC10:R570W   \n",
       "ABCC10:p.R570     DOID:4465           1         2   1.142857  ABCC10:R570W   \n",
       "\n",
       "                        pHGVS  \n",
       "ABCC10:p.R570  ABCC10:p.R570W  \n",
       "ABCC10:p.R570  ABCC10:p.R570W  \n",
       "ABCC10:p.R570  ABCC10:p.R570W  \n",
       "ABCC10:p.R570  ABCC10:p.R570W  \n",
       "ABCC10:p.R570  ABCC10:p.R570W  "
      ]
     },
     "execution_count": 33,
     "metadata": {},
     "output_type": "execute_result"
    }
   ],
   "source": [
    "hotspots.head()"
   ]
  },
  {
   "cell_type": "markdown",
   "metadata": {},
   "source": [
    "### Look up genomic location and transcript"
   ]
  },
  {
   "cell_type": "code",
   "execution_count": 34,
   "metadata": {
    "ExecuteTime": {
     "end_time": "2016-06-13T13:42:02.506303",
     "start_time": "2016-06-13T13:42:02.376976"
    },
    "collapsed": false
   },
   "outputs": [],
   "source": [
    "from hgvs_tools.hgvs import Variant"
   ]
  },
  {
   "cell_type": "code",
   "execution_count": 35,
   "metadata": {
    "ExecuteTime": {
     "end_time": "2016-06-13T13:42:04.612376",
     "start_time": "2016-06-13T13:42:02.507507"
    },
    "collapsed": false
   },
   "outputs": [
    {
     "data": {
      "text/plain": [
       "{'alt': 'T',\n",
       " 'chromosome': '6',\n",
       " 'edit_type': 'substitution',\n",
       " 'ref': 'C',\n",
       " 'start': '43403588',\n",
       " 'stop': '43403588'}"
      ]
     },
     "execution_count": 35,
     "metadata": {},
     "output_type": "execute_result"
    }
   ],
   "source": [
    "Variant('ABCC10:p.R570W', reference_assembly=37).g.info"
   ]
  },
  {
   "cell_type": "code",
   "execution_count": 36,
   "metadata": {
    "ExecuteTime": {
     "end_time": "2016-06-13T13:42:04.619120",
     "start_time": "2016-06-13T13:42:04.613726"
    },
    "collapsed": false
   },
   "outputs": [],
   "source": [
    "def p_to_g(string):\n",
    "\n",
    "    try:\n",
    "        v = Variant(string, reference_assembly=37)\n",
    "        d = v.g.info\n",
    "        d['id'] = v.c.info['id']\n",
    "        d['pHGVS']=string\n",
    "        names = ['chromosome', 'start', 'stop', 'reference', 'variant', 'transcript','pHGVS']\n",
    "        values = [d[x] for x in ['chromosome', 'start', 'stop', 'ref', 'alt', 'id','pHGVS']]\n",
    "        return dict(zip(names, values))\n",
    "    except:\n",
    "        print(string)"
   ]
  },
  {
   "cell_type": "code",
   "execution_count": 37,
   "metadata": {
    "ExecuteTime": {
     "end_time": "2016-06-13T14:04:48.730959",
     "start_time": "2016-06-13T13:42:04.620718"
    },
    "collapsed": false
   },
   "outputs": [
    {
     "name": "stdout",
     "output_type": "stream",
     "text": [
      "ACVR1B:p.R485*\n",
      "ACVR1B:p.R444*\n",
      "ALK:p.F1174L\n",
      "ALK:p.R1275*\n",
      "AMPD1:p.L631F\n",
      "AMPD1:p.L598F\n",
      "AMPD1:p.L598V\n",
      "ANKZF1:p.A650A\n",
      "APC:p.E1408*\n",
      "APC:p.Q1338*\n",
      "APC:p.Q1378*\n",
      "APC:p.Q1406*\n",
      "APC:p.Q1429*\n",
      "APC:p.Q1429R\n",
      "APC:p.R1114*\n",
      "APC:p.R1450*\n",
      "APC:p.R213*\n",
      "APC:p.R216*\n",
      "APC:p.R232*\n",
      "APC:p.R499*\n",
      "APC:p.R564*\n",
      "APC:p.R876*\n",
      "APC:p.R876Q\n",
      "APC:p.Y935*\n",
      "APOBR:p.E361D\n",
      "APOBR:p.E352D\n",
      "ARAF:p.S214S\n",
      "ARHGAP28:p.L259R\n",
      "ARHGAP28:p.L259P\n",
      "ARHGAP33:p.S964S\n",
      "ARID1A:p.R1335*\n",
      "ARID1A:p.R1989*\n",
      "ARID1A:p.R693*\n",
      "ARL16:p.G6R\n",
      "ASF1B:p.P21P\n",
      "ATM:p.N2875K\n",
      "ATP6V1B2:p.P352P\n",
      "B2M:p.M1I\n",
      "B2M:p.M1L\n",
      "BCL2L12:p.F17F\n",
      "BCL2L12:p.F8F\n",
      "BNC2:p.S575R\n",
      "BRAF:p.G469R\n",
      "BRAF:p.G469*\n",
      "BRAF:p.K601N\n",
      "BRAF:p.N581S\n",
      "BRAF:p.N581T\n",
      "BRAF:p.N581I\n",
      "BRAF:p.N581H\n",
      "BRAF:p.V600R\n",
      "BRAF:p.V600V\n",
      "BRD7:p.Y455*\n",
      "BRINP1:p.G713G\n",
      "C3orf70:p.S6*\n",
      "C6:p.K817T\n",
      "C6:p.K817R\n",
      "CCND1:p.Y44*\n",
      "CDH1:p.Q23*\n",
      "CDKN2A:p.E88*\n",
      "CDKN2A:p.H83Q\n",
      "CDKN2A:p.Q50*\n",
      "CDKN2A:p.Q50H\n",
      "CDKN2A:p.Q50Q\n",
      "CDKN2A:p.R58*\n",
      "CDKN2A:p.R58R\n",
      "CDKN2A:p.R80*\n",
      "nan\n",
      "CDKN2A:p.W110*\n",
      "CELSR1:p.W1958C\n",
      "CEP63:p.S153S\n",
      "CHD3:p.I293L\n",
      "CHD3:p.I234L\n",
      "CHIT1:p.W358*\n",
      "CLEC14A:p.R193R\n",
      "COBL:p.E480D\n",
      "CR1:p.R1392H\n",
      "CREBBP:p.R1446C\n",
      "CREBBP:p.R1446L\n",
      "CREBBP:p.R1446H\n",
      "CREBBP:p.R1446G\n",
      "CRNKL1:p.S128S\n",
      "CSPG5:p.R365R\n",
      "CTNNB1:p.G34R\n",
      "CTNNB1:p.G34*\n",
      "CTNNB1:p.N387K\n",
      "CTNNB1:p.S45S\n",
      "CYP4A11:p.I491M\n",
      "DCAF13:p.T118T\n",
      "DDX28:p.S442S\n",
      "DHRS4:p.T102M\n",
      "DNAH9:p.E2368D\n",
      "DNAJB1:p.L190L\n",
      "DUSP16:p.R483*\n",
      "ELTD1:p.S11S\n",
      "EP300:p.H1451H\n",
      "ERBB2:p.V777L\n",
      "ERBB3:p.V104L\n",
      "EVPL:p.C322C\n",
      "EZH2:p.Y641N\n",
      "EZH2:p.Y641H\n",
      "FAM46D:p.S69R\n",
      "FANK1:p.Q4*\n",
      "FBXW7:p.R367*\n",
      "FBXW7:p.R479*\n",
      "FBXW7:p.R479R\n",
      "FBXW7:p.R658*\n",
      "FBXW7:p.R658R\n",
      "FGFR1:p.K656E\n",
      "FGFR1:p.K687N\n",
      "FGFR1:p.K656N\n",
      "FGFR1:p.K687K\n",
      "FGFR1:p.K656K\n",
      "FGFR1:p.K687*\n",
      "FGFR1:p.K656*\n",
      "FGFR1:p.N577K\n",
      "FGFR1:p.N546K\n",
      "FGFR2:p.C382Y\n",
      "FGFR2:p.N550K\n",
      "FGFR2:p.N549K\n",
      "FGFR2:p.S252S\n",
      "FGFR3:p.Y373C\n",
      "FLT3:p.D835E\n",
      "FRMD6:p.F6F\n",
      "FRMD6:p.S17S\n",
      "FZD10:p.S22R\n",
      "GNAS:p.R201C\n",
      "GNAS:p.R201H\n",
      "GNAS:p.R201L\n",
      "GPRIN2:p.A50A\n",
      "H3F3A:p.G35R\n",
      "H3F3A:p.G34R\n",
      "H3F3A:p.K27M\n",
      "HEXDC:p.H452P\n",
      "HNMT:p.L145L\n",
      "HOOK2:p.S630S\n",
      "HOXB2:p.P335P\n",
      "HRAS:p.Q61H\n",
      "HSD11B1:p.G45R\n",
      "HSD11B1:p.G45G\n",
      "IDH2:p.R172S\n",
      "IL7R:p.K395N\n",
      "IL7R:p.K395K\n",
      "ING1:p.R339*\n",
      "ING1:p.R196*\n",
      "INMT:p.S212S\n",
      "INTS12:p.M1L\n",
      "KCNH5:p.T147T\n",
      "KCNJ12:p.E430*\n",
      "KCNJ8:p.G417R\n",
      "KCNJ8:p.G417D\n",
      "KCNQ5:p.G273R\n",
      "KDM6A:p.Q555*\n",
      "KIT:p.K642N\n",
      "KRAS:p.G12G\n",
      "KRAS:p.G13G\n",
      "KRAS:p.G60G\n",
      "KRAS:p.K117N\n",
      "KRAS:p.Q61H\n",
      "LAMC1:p.P641P\n",
      "LCE1F:p.P27P\n",
      "LENG8:p.G377G\n",
      "LENG8:p.G340G\n",
      "LRP5:p.S1609S\n",
      "LRRC71:p.K324K\n",
      "LST3:p.R709R\n",
      "LST3:p.R709T\n",
      "LST3:p.R709K\n",
      "MAGEC1:p.K1046N\n",
      "MAGOH:p.I137T\n",
      "MAP2K1:p.F53L\n",
      "MAP2K1:p.K57N\n",
      "MAP2K1:p.P124P\n",
      "MAP2K2:p.F57L\n",
      "MAPK1:p.E322*\n",
      "MARCH10:p.G241R\n",
      "MARCH10:p.G241G\n",
      "MED28:p.G7G\n",
      "MXRA5:p.G792G\n",
      "MYC:p.S146L\n",
      "MYC:p.T58P\n",
      "MYD88:p.L265P\n",
      "MYO18A:p.G979G\n",
      "MYO18B:p.P1018P\n",
      "MYO9A:p.P1300P\n",
      "NAP1L3:p.K502N\n",
      "NAP1L3:p.K502K\n",
      "NCR1:p.E42E\n",
      "NFE2L2:p.E79*\n",
      "NFE2L2:p.E79D\n",
      "NFE2L2:p.E82D\n",
      "NFE2L2:p.G31R\n",
      "NFE2L2:p.Q26H\n",
      "NOL4:p.L423L\n",
      "NOTCH2:p.R5R\n",
      "NPAS1:p.F159F\n",
      "NPAS1:p.F159L\n",
      "NRAS:p.Q61H\n",
      "NUP93:p.Q15*\n",
      "PACS2:p.Q87H\n",
      "PACS2:p.Q87Q\n",
      "PARP1:p.G500G\n",
      "PASD1:p.M338I\n",
      "PCMTD1:p.P342P\n",
      "PCSK5:p.W924*\n",
      "PDHA1:p.G107D\n",
      "PIK3CA:p.E453D\n",
      "PIK3CA:p.E545D\n",
      "PIK3CA:p.E81*\n",
      "PIK3CA:p.G118D\n",
      "PIK3CA:p.H1047Q\n",
      "PIK3CA:p.K111N\n",
      "PIK3CA:p.M1043I\n",
      "PIK3CA:p.M1043L\n",
      "PIK3CA:p.N1044K\n",
      "PIK3CA:p.N345K\n",
      "PIK3CA:p.Q546H\n",
      "PIK3R1:p.G376R\n",
      "PIK3R1:p.R348*\n",
      "POLE:p.V411L\n",
      "POM121:p.N94S\n",
      "POM121:p.N359S\n",
      "PPP6C:p.R264C\n",
      "PTEN:p.C136*\n",
      "PTEN:p.R130*\n",
      "PTEN:p.R233*\n",
      "PTPN11:p.G503G\n",
      "PTPN11:p.Q510H\n",
      "RBM39:p.T353T\n",
      "RHOA:p.E40*\n",
      "RIMS1:p.R71R\n",
      "RIMS2:p.S423S\n",
      "RIMS2:p.S201S\n",
      "RINT1:p.K85N\n",
      "RIPPLY2:p.S110*\n",
      "RRAS2:p.Q72H\n",
      "RTKN2:p.R33*\n",
      "S100A3:p.P97P\n",
      "SEMA4B:p.S231S\n",
      "SF3B1:p.D894N\n",
      "SF3B1:p.G742D\n",
      "SF3B1:p.K666E\n",
      "SF3B1:p.K666Q\n",
      "SF3B1:p.K700E\n",
      "SF3B1:p.N626Y\n",
      "SF3B1:p.N626H\n",
      "SF3B1:p.N626D\n",
      "SF3B1:p.R625H\n",
      "SF3B1:p.R625C\n",
      "SF3B1:p.R625L\n",
      "SF3B1:p.R625G\n",
      "SLC16A13:p.F158L\n",
      "SLC27A5:p.T554T\n",
      "SMAD2:p.S464*\n",
      "SMAD4:p.D537E\n",
      "SPOP:p.F102L\n",
      "SPOP:p.F133L\n",
      "SPOP:p.W131R\n",
      "SPOP:p.W131C\n",
      "STK19:p.D89D\n",
      "TACC3:p.P417P\n",
      "TARBP2:p.E191*\n",
      "TARBP2:p.E191E\n",
      "TCEB1:p.Y79*\n",
      "TGFBR2:p.R528C\n",
      "TGFBR2:p.R528H\n",
      "TGFBR2:p.R528L\n",
      "TGFBRAP1:p.P824P\n",
      "THBD:p.C554C\n",
      "THSD7B:p.E1149K\n",
      "THSD7B:p.G557R\n",
      "THSD7B:p.G526R\n",
      "TMEM131:p.E1319*\n",
      "TMEM147:p.A92A\n",
      "TOP2B:p.R656H\n",
      "TP53:p.C135S\n",
      "TP53:p.C135*\n",
      "TP53:p.C141S\n",
      "TP53:p.C141*\n",
      "TP53:p.C176S\n",
      "TP53:p.C176*\n",
      "TP53:p.C176C\n",
      "TP53:p.C238S\n",
      "TP53:p.C242S\n",
      "TP53:p.C242C\n",
      "TP53:p.C275S\n",
      "TP53:p.C275*\n",
      "TP53:p.D281E\n",
      "TP53:p.D281D\n",
      "TP53:p.E225_spliceSS\n",
      "TP53:p.E286*\n",
      "TP53:p.F270L\n",
      "TP53:p.G244G\n",
      "TP53:p.G266R\n",
      "TP53:p.G266*\n",
      "TP53:p.H179Q\n",
      "TP53:p.K132N\n",
      "TP53:p.M237I\n",
      "TP53:p.Q144*\n",
      "TP53:p.Q144H\n",
      "TP53:p.R196*\n",
      "TP53:p.R213*\n",
      "TP53:p.R249S\n",
      "TP53:p.R280S\n",
      "TP53:p.R280*\n",
      "TP53:p.R282R\n",
      "TP53:p.S215R\n",
      "TP53:p.T125T\n",
      "TP53:p.T125_spliceSS\n",
      "TP53:p.V173L\n",
      "TP53:p.V216L\n",
      "TP53:p.V272V\n",
      "TP53:p.V272L\n",
      "TP53:p.Y163*\n",
      "TP53:p.Y205*\n",
      "TP53:p.Y234*\n",
      "TP53:p.Y236*\n",
      "TPSD1:p.P22P\n",
      "TUBGCP6:p.S1192S\n",
      "UBE2D3:p.M32I\n",
      "UBE2D3:p.M30I\n",
      "UBE2D3:p.M32V\n",
      "UBE2D3:p.M30V\n",
      "WDR73:p.G316R\n",
      "ZBTB7A:p.K424N\n",
      "ZHX3:p.N249K\n",
      "ZNF649:p.R198S\n"
     ]
    }
   ],
   "source": [
    "test = (hotspots['Hugo Symbol'] + \":p.\" + hotspots.Codon).drop_duplicates().apply(p_to_g)"
   ]
  },
  {
   "cell_type": "code",
   "execution_count": 38,
   "metadata": {
    "ExecuteTime": {
     "end_time": "2016-06-13T14:04:48.738787",
     "start_time": "2016-06-13T14:04:48.732230"
    },
    "collapsed": false
   },
   "outputs": [],
   "source": [
    "g_loc = pd.DataFrame.from_dict(test.dropna().tolist())"
   ]
  },
  {
   "cell_type": "code",
   "execution_count": 39,
   "metadata": {
    "ExecuteTime": {
     "end_time": "2016-06-13T14:04:48.813276",
     "start_time": "2016-06-13T14:04:48.740173"
    },
    "collapsed": false
   },
   "outputs": [],
   "source": [
    "hotspots_merged = pd.merge(hotspots, g_loc, on='pHGVS').drop_duplicates()"
   ]
  },
  {
   "cell_type": "code",
   "execution_count": null,
   "metadata": {
    "ExecuteTime": {
     "end_time": "2016-05-20T14:30:09.866694",
     "start_time": "2016-05-20T14:30:09.794819"
    },
    "collapsed": false
   },
   "outputs": [],
   "source": []
  },
  {
   "cell_type": "code",
   "execution_count": 40,
   "metadata": {
    "ExecuteTime": {
     "end_time": "2016-06-13T14:04:48.822683",
     "start_time": "2016-06-13T14:04:48.814512"
    },
    "collapsed": false
   },
   "outputs": [],
   "source": [
    "docm_submisison = hotspots_merged[hotspots_merged['Validation Level [a]']>='Level-2'][['chromosome', 'start', 'stop', 'reference', 'variant', 'transcript','DOID']].drop_duplicates()"
   ]
  },
  {
   "cell_type": "code",
   "execution_count": null,
   "metadata": {
    "collapsed": true
   },
   "outputs": [],
   "source": []
  },
  {
   "cell_type": "code",
   "execution_count": 41,
   "metadata": {
    "ExecuteTime": {
     "end_time": "2016-06-13T14:04:48.854625",
     "start_time": "2016-06-13T14:04:48.824005"
    },
    "collapsed": true
   },
   "outputs": [],
   "source": [
    "docm_submisison['pubmed_id'] = 26619011"
   ]
  },
  {
   "cell_type": "markdown",
   "metadata": {},
   "source": [
    "### Create DoCM import TSV file"
   ]
  },
  {
   "cell_type": "code",
   "execution_count": 42,
   "metadata": {
    "ExecuteTime": {
     "end_time": "2016-06-13T14:04:48.878442",
     "start_time": "2016-06-13T14:04:48.855690"
    },
    "collapsed": false
   },
   "outputs": [],
   "source": [
    "docm_submisison.rename(columns={'DOID':'doid'}).to_csv('pancan_hotspot.tsv',sep='\\t', index=False)"
   ]
  },
  {
   "cell_type": "code",
   "execution_count": 43,
   "metadata": {
    "ExecuteTime": {
     "end_time": "2016-06-13T14:04:48.889407",
     "start_time": "2016-06-13T14:04:48.879621"
    },
    "collapsed": false
   },
   "outputs": [
    {
     "data": {
      "text/html": [
       "<div>\n",
       "<table border=\"1\" class=\"dataframe\">\n",
       "  <thead>\n",
       "    <tr style=\"text-align: right;\">\n",
       "      <th></th>\n",
       "      <th>chromosome</th>\n",
       "      <th>start</th>\n",
       "      <th>stop</th>\n",
       "      <th>reference</th>\n",
       "      <th>variant</th>\n",
       "      <th>transcript</th>\n",
       "      <th>DOID</th>\n",
       "      <th>pubmed_id</th>\n",
       "    </tr>\n",
       "  </thead>\n",
       "  <tbody>\n",
       "    <tr>\n",
       "      <th>96</th>\n",
       "      <td>2</td>\n",
       "      <td>158622516</td>\n",
       "      <td>158622516</td>\n",
       "      <td>C</td>\n",
       "      <td>T</td>\n",
       "      <td>ENST00000263640</td>\n",
       "      <td>DOID:4202</td>\n",
       "      <td>26619011</td>\n",
       "    </tr>\n",
       "    <tr>\n",
       "      <th>98</th>\n",
       "      <td>2</td>\n",
       "      <td>158622516</td>\n",
       "      <td>158622516</td>\n",
       "      <td>C</td>\n",
       "      <td>A</td>\n",
       "      <td>ENST00000263640</td>\n",
       "      <td>DOID:4202</td>\n",
       "      <td>26619011</td>\n",
       "    </tr>\n",
       "    <tr>\n",
       "      <th>100</th>\n",
       "      <td>2</td>\n",
       "      <td>158626898</td>\n",
       "      <td>158626898</td>\n",
       "      <td>T</td>\n",
       "      <td>C</td>\n",
       "      <td>ENST00000263640</td>\n",
       "      <td>DOID:4202</td>\n",
       "      <td>26619011</td>\n",
       "    </tr>\n",
       "    <tr>\n",
       "      <th>101</th>\n",
       "      <td>2</td>\n",
       "      <td>158626898</td>\n",
       "      <td>158626898</td>\n",
       "      <td>T</td>\n",
       "      <td>C</td>\n",
       "      <td>ENST00000263640</td>\n",
       "      <td>DOID:3717</td>\n",
       "      <td>26619011</td>\n",
       "    </tr>\n",
       "    <tr>\n",
       "      <th>104</th>\n",
       "      <td>2</td>\n",
       "      <td>158626897</td>\n",
       "      <td>158626897</td>\n",
       "      <td>C</td>\n",
       "      <td>A</td>\n",
       "      <td>ENST00000263640</td>\n",
       "      <td>DOID:4202</td>\n",
       "      <td>26619011</td>\n",
       "    </tr>\n",
       "  </tbody>\n",
       "</table>\n",
       "</div>"
      ],
      "text/plain": [
       "    chromosome      start       stop reference variant       transcript  \\\n",
       "96           2  158622516  158622516         C       T  ENST00000263640   \n",
       "98           2  158622516  158622516         C       A  ENST00000263640   \n",
       "100          2  158626898  158626898         T       C  ENST00000263640   \n",
       "101          2  158626898  158626898         T       C  ENST00000263640   \n",
       "104          2  158626897  158626897         C       A  ENST00000263640   \n",
       "\n",
       "          DOID  pubmed_id  \n",
       "96   DOID:4202   26619011  \n",
       "98   DOID:4202   26619011  \n",
       "100  DOID:4202   26619011  \n",
       "101  DOID:3717   26619011  \n",
       "104  DOID:4202   26619011  "
      ]
     },
     "execution_count": 43,
     "metadata": {},
     "output_type": "execute_result"
    }
   ],
   "source": [
    "docm_submisison.head()"
   ]
  }
 ],
 "metadata": {
  "kernelspec": {
   "display_name": "Python 3",
   "language": "python",
   "name": "python3"
  },
  "language_info": {
   "codemirror_mode": {
    "name": "ipython",
    "version": 3
   },
   "file_extension": ".py",
   "mimetype": "text/x-python",
   "name": "python",
   "nbconvert_exporter": "python",
   "pygments_lexer": "ipython3",
   "version": "3.5.1"
  }
 },
 "nbformat": 4,
 "nbformat_minor": 0
}
